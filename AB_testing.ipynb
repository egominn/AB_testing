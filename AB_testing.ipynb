{
  "nbformat": 4,
  "nbformat_minor": 0,
  "metadata": {
    "colab": {
      "name": "AB_testing.ipynb",
      "provenance": [],
      "collapsed_sections": []
    },
    "kernelspec": {
      "name": "python3",
      "display_name": "Python 3"
    },
    "language_info": {
      "name": "python"
    }
  },
  "cells": [
    {
      "cell_type": "code",
      "metadata": {
        "id": "IgHmY_JY2LLh"
      },
      "source": [
        "import pandas as pd\n",
        "import numpy as np\n",
        "import matplotlib.pyplot as plt\n",
        "\n",
        "import warnings\n",
        "warnings.filterwarnings(\"ignore\")\n",
        "warnings.simplefilter(action='ignore', category=FutureWarning)"
      ],
      "execution_count": 160,
      "outputs": []
    },
    {
      "cell_type": "markdown",
      "metadata": {
        "id": "BQoaSXaN2Sp1"
      },
      "source": [
        "https://drive.google.com/file/d/1C9IcfZK7rtJU23UWNy7kr3czarITcB1s"
      ]
    },
    {
      "cell_type": "code",
      "metadata": {
        "colab": {
          "base_uri": "https://localhost:8080/"
        },
        "id": "WyjaKmUA2RTn",
        "outputId": "c1923b82-dd8e-495a-e2fe-3ed805b928fd"
      },
      "source": [
        "!gdown --id 1C9IcfZK7rtJU23UWNy7kr3czarITcB1s"
      ],
      "execution_count": 134,
      "outputs": [
        {
          "output_type": "stream",
          "text": [
            "Downloading...\n",
            "From: https://drive.google.com/uc?id=1C9IcfZK7rtJU23UWNy7kr3czarITcB1s\n",
            "To: /content/cookie_cats.csv\n",
            "2.80MB [00:00, 13.1MB/s]\n"
          ],
          "name": "stdout"
        }
      ]
    },
    {
      "cell_type": "code",
      "metadata": {
        "id": "RS4zzPwM2UXV"
      },
      "source": [
        "df = pd.read_csv('/content/cookie_cats.csv')"
      ],
      "execution_count": 135,
      "outputs": []
    },
    {
      "cell_type": "markdown",
      "metadata": {
        "id": "pS4BPmmr2XJV"
      },
      "source": [
        "**Описание данных** \\\n",
        "\n",
        "*  userid - уникальный идентификатор пользователя  \n",
        "*  version - в какую группу был помещен пользователь в контрольную (gate_30 на 30 уровне игры) или в тестовую (gate_40 на 40 уровне игры) \\\n",
        "*  sum_gamerounds - количество сыгранных раундов после установки игры \\\n",
        "*  retention_1 - удержание 1ого дня \\\n",
        "*  retenrion_7 - удержание 7ого дня\n",
        "\n",
        "После установки игрок был случайно помещен в группу gate_30 либо gate_40"
      ]
    },
    {
      "cell_type": "code",
      "metadata": {
        "colab": {
          "base_uri": "https://localhost:8080/",
          "height": 204
        },
        "id": "8BBDBR3u2WEd",
        "outputId": "677ba6f8-506d-4561-9d0b-d989542f8ee7"
      },
      "source": [
        "df.head()"
      ],
      "execution_count": 136,
      "outputs": [
        {
          "output_type": "execute_result",
          "data": {
            "text/html": [
              "<div>\n",
              "<style scoped>\n",
              "    .dataframe tbody tr th:only-of-type {\n",
              "        vertical-align: middle;\n",
              "    }\n",
              "\n",
              "    .dataframe tbody tr th {\n",
              "        vertical-align: top;\n",
              "    }\n",
              "\n",
              "    .dataframe thead th {\n",
              "        text-align: right;\n",
              "    }\n",
              "</style>\n",
              "<table border=\"1\" class=\"dataframe\">\n",
              "  <thead>\n",
              "    <tr style=\"text-align: right;\">\n",
              "      <th></th>\n",
              "      <th>userid</th>\n",
              "      <th>version</th>\n",
              "      <th>sum_gamerounds</th>\n",
              "      <th>retention_1</th>\n",
              "      <th>retention_7</th>\n",
              "    </tr>\n",
              "  </thead>\n",
              "  <tbody>\n",
              "    <tr>\n",
              "      <th>0</th>\n",
              "      <td>116</td>\n",
              "      <td>gate_30</td>\n",
              "      <td>3</td>\n",
              "      <td>False</td>\n",
              "      <td>False</td>\n",
              "    </tr>\n",
              "    <tr>\n",
              "      <th>1</th>\n",
              "      <td>337</td>\n",
              "      <td>gate_30</td>\n",
              "      <td>38</td>\n",
              "      <td>True</td>\n",
              "      <td>False</td>\n",
              "    </tr>\n",
              "    <tr>\n",
              "      <th>2</th>\n",
              "      <td>377</td>\n",
              "      <td>gate_40</td>\n",
              "      <td>165</td>\n",
              "      <td>True</td>\n",
              "      <td>False</td>\n",
              "    </tr>\n",
              "    <tr>\n",
              "      <th>3</th>\n",
              "      <td>483</td>\n",
              "      <td>gate_40</td>\n",
              "      <td>1</td>\n",
              "      <td>False</td>\n",
              "      <td>False</td>\n",
              "    </tr>\n",
              "    <tr>\n",
              "      <th>4</th>\n",
              "      <td>488</td>\n",
              "      <td>gate_40</td>\n",
              "      <td>179</td>\n",
              "      <td>True</td>\n",
              "      <td>True</td>\n",
              "    </tr>\n",
              "  </tbody>\n",
              "</table>\n",
              "</div>"
            ],
            "text/plain": [
              "   userid  version  sum_gamerounds  retention_1  retention_7\n",
              "0     116  gate_30               3        False        False\n",
              "1     337  gate_30              38         True        False\n",
              "2     377  gate_40             165         True        False\n",
              "3     483  gate_40               1        False        False\n",
              "4     488  gate_40             179         True         True"
            ]
          },
          "metadata": {
            "tags": []
          },
          "execution_count": 136
        }
      ]
    },
    {
      "cell_type": "code",
      "metadata": {
        "colab": {
          "base_uri": "https://localhost:8080/"
        },
        "id": "blKF0eHE2ZGt",
        "outputId": "42c8c335-4ea4-43b1-c0c4-6b66aaf8b6de"
      },
      "source": [
        "df.shape"
      ],
      "execution_count": 137,
      "outputs": [
        {
          "output_type": "execute_result",
          "data": {
            "text/plain": [
              "(90189, 5)"
            ]
          },
          "metadata": {
            "tags": []
          },
          "execution_count": 137
        }
      ]
    },
    {
      "cell_type": "code",
      "metadata": {
        "colab": {
          "base_uri": "https://localhost:8080/"
        },
        "id": "jzCVJgNN2aSd",
        "outputId": "83880c92-f309-4f6c-f713-fe758beb0a52"
      },
      "source": [
        "df['userid'].nunique()"
      ],
      "execution_count": 138,
      "outputs": [
        {
          "output_type": "execute_result",
          "data": {
            "text/plain": [
              "90189"
            ]
          },
          "metadata": {
            "tags": []
          },
          "execution_count": 138
        }
      ]
    },
    {
      "cell_type": "code",
      "metadata": {
        "colab": {
          "base_uri": "https://localhost:8080/",
          "height": 142
        },
        "id": "aW6qc_1K2bJu",
        "outputId": "fddd1507-2f7c-490c-98fc-702e71b7182a"
      },
      "source": [
        "df.groupby(\"version\").sum_gamerounds.agg([\"count\", \"median\", \"mean\", \"std\", \"max\"])"
      ],
      "execution_count": 139,
      "outputs": [
        {
          "output_type": "execute_result",
          "data": {
            "text/html": [
              "<div>\n",
              "<style scoped>\n",
              "    .dataframe tbody tr th:only-of-type {\n",
              "        vertical-align: middle;\n",
              "    }\n",
              "\n",
              "    .dataframe tbody tr th {\n",
              "        vertical-align: top;\n",
              "    }\n",
              "\n",
              "    .dataframe thead th {\n",
              "        text-align: right;\n",
              "    }\n",
              "</style>\n",
              "<table border=\"1\" class=\"dataframe\">\n",
              "  <thead>\n",
              "    <tr style=\"text-align: right;\">\n",
              "      <th></th>\n",
              "      <th>count</th>\n",
              "      <th>median</th>\n",
              "      <th>mean</th>\n",
              "      <th>std</th>\n",
              "      <th>max</th>\n",
              "    </tr>\n",
              "    <tr>\n",
              "      <th>version</th>\n",
              "      <th></th>\n",
              "      <th></th>\n",
              "      <th></th>\n",
              "      <th></th>\n",
              "      <th></th>\n",
              "    </tr>\n",
              "  </thead>\n",
              "  <tbody>\n",
              "    <tr>\n",
              "      <th>gate_30</th>\n",
              "      <td>44700</td>\n",
              "      <td>17</td>\n",
              "      <td>52.456264</td>\n",
              "      <td>256.716423</td>\n",
              "      <td>49854</td>\n",
              "    </tr>\n",
              "    <tr>\n",
              "      <th>gate_40</th>\n",
              "      <td>45489</td>\n",
              "      <td>16</td>\n",
              "      <td>51.298776</td>\n",
              "      <td>103.294416</td>\n",
              "      <td>2640</td>\n",
              "    </tr>\n",
              "  </tbody>\n",
              "</table>\n",
              "</div>"
            ],
            "text/plain": [
              "         count  median       mean         std    max\n",
              "version                                             \n",
              "gate_30  44700      17  52.456264  256.716423  49854\n",
              "gate_40  45489      16  51.298776  103.294416   2640"
            ]
          },
          "metadata": {
            "tags": []
          },
          "execution_count": 139
        }
      ]
    },
    {
      "cell_type": "code",
      "metadata": {
        "colab": {
          "base_uri": "https://localhost:8080/",
          "height": 312
        },
        "id": "AMDq36-02cdG",
        "outputId": "aada5ee9-43a9-4123-97be-91cc856ef6ca"
      },
      "source": [
        "plt.figure(figsize=(28,4))\n",
        "df[df['version'] == 'gate_30'].set_index('userid')['sum_gamerounds'].plot(title='before removing outlier')\n",
        "df[df['version'] == 'gate_40'].set_index('userid')['sum_gamerounds'].plot()"
      ],
      "execution_count": 140,
      "outputs": [
        {
          "output_type": "execute_result",
          "data": {
            "text/plain": [
              "<matplotlib.axes._subplots.AxesSubplot at 0x7fed6daf7290>"
            ]
          },
          "metadata": {
            "tags": []
          },
          "execution_count": 140
        },
        {
          "output_type": "display_data",
          "data": {
            "image/png": "[encoded data removed]",
            "text/plain": [
              "<Figure size 2016x288 with 1 Axes>"
            ]
          },
          "metadata": {
            "tags": [],
            "needs_background": "light"
          }
        }
      ]
    },
    {
      "cell_type": "markdown",
      "metadata": {
        "id": "52SiY9Wm2e3t"
      },
      "source": [
        "Из полученных значений видно, что в данных имеются выбросы"
      ]
    },
    {
      "cell_type": "code",
      "metadata": {
        "id": "cs21-3kYClnH"
      },
      "source": [
        "df = df.drop(df.nlargest(1, 'sum_gamerounds').index)"
      ],
      "execution_count": 141,
      "outputs": []
    },
    {
      "cell_type": "code",
      "metadata": {
        "colab": {
          "base_uri": "https://localhost:8080/",
          "height": 142
        },
        "id": "nGyYXNGy2iaF",
        "outputId": "5a9c5d92-e113-4f68-c881-fa535f10977e"
      },
      "source": [
        "df.groupby(\"version\").sum_gamerounds.agg([\"count\", \"median\", \"mean\", \"std\", \"max\"])"
      ],
      "execution_count": 142,
      "outputs": [
        {
          "output_type": "execute_result",
          "data": {
            "text/html": [
              "<div>\n",
              "<style scoped>\n",
              "    .dataframe tbody tr th:only-of-type {\n",
              "        vertical-align: middle;\n",
              "    }\n",
              "\n",
              "    .dataframe tbody tr th {\n",
              "        vertical-align: top;\n",
              "    }\n",
              "\n",
              "    .dataframe thead th {\n",
              "        text-align: right;\n",
              "    }\n",
              "</style>\n",
              "<table border=\"1\" class=\"dataframe\">\n",
              "  <thead>\n",
              "    <tr style=\"text-align: right;\">\n",
              "      <th></th>\n",
              "      <th>count</th>\n",
              "      <th>median</th>\n",
              "      <th>mean</th>\n",
              "      <th>std</th>\n",
              "      <th>max</th>\n",
              "    </tr>\n",
              "    <tr>\n",
              "      <th>version</th>\n",
              "      <th></th>\n",
              "      <th></th>\n",
              "      <th></th>\n",
              "      <th></th>\n",
              "      <th></th>\n",
              "    </tr>\n",
              "  </thead>\n",
              "  <tbody>\n",
              "    <tr>\n",
              "      <th>gate_30</th>\n",
              "      <td>44699</td>\n",
              "      <td>17</td>\n",
              "      <td>51.342111</td>\n",
              "      <td>102.057598</td>\n",
              "      <td>2961</td>\n",
              "    </tr>\n",
              "    <tr>\n",
              "      <th>gate_40</th>\n",
              "      <td>45489</td>\n",
              "      <td>16</td>\n",
              "      <td>51.298776</td>\n",
              "      <td>103.294416</td>\n",
              "      <td>2640</td>\n",
              "    </tr>\n",
              "  </tbody>\n",
              "</table>\n",
              "</div>"
            ],
            "text/plain": [
              "         count  median       mean         std   max\n",
              "version                                            \n",
              "gate_30  44699      17  51.342111  102.057598  2961\n",
              "gate_40  45489      16  51.298776  103.294416  2640"
            ]
          },
          "metadata": {
            "tags": []
          },
          "execution_count": 142
        }
      ]
    },
    {
      "cell_type": "code",
      "metadata": {
        "colab": {
          "base_uri": "https://localhost:8080/",
          "height": 312
        },
        "id": "s6IGGSw_C2Y2",
        "outputId": "4ad471c9-0405-4f06-9032-1a4810c4672a"
      },
      "source": [
        "plt.figure(figsize=(28,4))\n",
        "df[df['version'] == 'gate_30'].set_index('userid')['sum_gamerounds'].plot(title='after removing outlier')\n",
        "df[df['version'] == 'gate_40'].set_index('userid')['sum_gamerounds'].plot()"
      ],
      "execution_count": 143,
      "outputs": [
        {
          "output_type": "execute_result",
          "data": {
            "text/plain": [
              "<matplotlib.axes._subplots.AxesSubplot at 0x7fed6da43910>"
            ]
          },
          "metadata": {
            "tags": []
          },
          "execution_count": 143
        },
        {
          "output_type": "display_data",
          "data": {
            "image/png": "[encoded data removed]",
            "text/plain": [
              "<Figure size 2016x288 with 1 Axes>"
            ]
          },
          "metadata": {
            "tags": [],
            "needs_background": "light"
          }
        }
      ]
    },
    {
      "cell_type": "code",
      "metadata": {
        "colab": {
          "base_uri": "https://localhost:8080/"
        },
        "id": "Usfqt-572ji1",
        "outputId": "31bbd8ae-64d4-46b4-ebc2-b28b5894b2a1"
      },
      "source": [
        "df.groupby('sum_gamerounds')['userid'].count()"
      ],
      "execution_count": 144,
      "outputs": [
        {
          "output_type": "execute_result",
          "data": {
            "text/plain": [
              "sum_gamerounds\n",
              "0       3994\n",
              "1       5538\n",
              "2       4606\n",
              "3       3958\n",
              "4       3629\n",
              "        ... \n",
              "2251       1\n",
              "2294       1\n",
              "2438       1\n",
              "2640       1\n",
              "2961       1\n",
              "Name: userid, Length: 941, dtype: int64"
            ]
          },
          "metadata": {
            "tags": []
          },
          "execution_count": 144
        }
      ]
    },
    {
      "cell_type": "code",
      "metadata": {
        "colab": {
          "base_uri": "https://localhost:8080/",
          "height": 297
        },
        "id": "YQoEYVV-2la9",
        "outputId": "8e9d4ca2-af2f-4ee2-914c-afe9bd37690c"
      },
      "source": [
        "df[df['sum_gamerounds'] < 100].groupby('sum_gamerounds')['userid'].count().plot()"
      ],
      "execution_count": 145,
      "outputs": [
        {
          "output_type": "execute_result",
          "data": {
            "text/plain": [
              "<matplotlib.axes._subplots.AxesSubplot at 0x7fed6d9a3590>"
            ]
          },
          "metadata": {
            "tags": []
          },
          "execution_count": 145
        },
        {
          "output_type": "display_data",
          "data": {
            "image/png": "[encoded data removed]",
            "text/plain": [
              "<Figure size 432x288 with 1 Axes>"
            ]
          },
          "metadata": {
            "tags": [],
            "needs_background": "light"
          }
        }
      ]
    },
    {
      "cell_type": "markdown",
      "metadata": {
        "id": "46kFG3EM2nXl"
      },
      "source": [
        "3994 игрока ни разу не заходили в игру после установки"
      ]
    },
    {
      "cell_type": "code",
      "metadata": {
        "colab": {
          "base_uri": "https://localhost:8080/"
        },
        "id": "McdaZsYW2mSd",
        "outputId": "89166295-a468-4861-a12a-864496066906"
      },
      "source": [
        "round(df['retention_1'].sum() / df.shape[0] *100, 2)"
      ],
      "execution_count": 146,
      "outputs": [
        {
          "output_type": "execute_result",
          "data": {
            "text/plain": [
              "44.52"
            ]
          },
          "metadata": {
            "tags": []
          },
          "execution_count": 146
        }
      ]
    },
    {
      "cell_type": "code",
      "metadata": {
        "colab": {
          "base_uri": "https://localhost:8080/"
        },
        "id": "e_W2FbjF2owd",
        "outputId": "c7dfc4b5-1dc6-42e8-fde2-36b80ee7aece"
      },
      "source": [
        "round(df['retention_7'].sum() / df.shape[0] *100, 2)"
      ],
      "execution_count": 147,
      "outputs": [
        {
          "output_type": "execute_result",
          "data": {
            "text/plain": [
              "18.61"
            ]
          },
          "metadata": {
            "tags": []
          },
          "execution_count": 147
        }
      ]
    },
    {
      "cell_type": "markdown",
      "metadata": {
        "id": "5BEU_R4p2rCn"
      },
      "source": [
        "Удрержание 1ого дня равно 44.52 % \\\n",
        "Удрержание 7ого дня равно 18.61 % \\"
      ]
    },
    {
      "cell_type": "code",
      "metadata": {
        "colab": {
          "base_uri": "https://localhost:8080/",
          "height": 142
        },
        "id": "12HIKge02ps9",
        "outputId": "01cefd49-3c80-4334-99cf-0dccae0e83df"
      },
      "source": [
        "df.groupby('version')[['retention_1', 'retention_7']].mean()"
      ],
      "execution_count": 148,
      "outputs": [
        {
          "output_type": "execute_result",
          "data": {
            "text/html": [
              "<div>\n",
              "<style scoped>\n",
              "    .dataframe tbody tr th:only-of-type {\n",
              "        vertical-align: middle;\n",
              "    }\n",
              "\n",
              "    .dataframe tbody tr th {\n",
              "        vertical-align: top;\n",
              "    }\n",
              "\n",
              "    .dataframe thead th {\n",
              "        text-align: right;\n",
              "    }\n",
              "</style>\n",
              "<table border=\"1\" class=\"dataframe\">\n",
              "  <thead>\n",
              "    <tr style=\"text-align: right;\">\n",
              "      <th></th>\n",
              "      <th>retention_1</th>\n",
              "      <th>retention_7</th>\n",
              "    </tr>\n",
              "    <tr>\n",
              "      <th>version</th>\n",
              "      <th></th>\n",
              "      <th></th>\n",
              "    </tr>\n",
              "  </thead>\n",
              "  <tbody>\n",
              "    <tr>\n",
              "      <th>gate_30</th>\n",
              "      <td>0.448198</td>\n",
              "      <td>0.190183</td>\n",
              "    </tr>\n",
              "    <tr>\n",
              "      <th>gate_40</th>\n",
              "      <td>0.442283</td>\n",
              "      <td>0.182000</td>\n",
              "    </tr>\n",
              "  </tbody>\n",
              "</table>\n",
              "</div>"
            ],
            "text/plain": [
              "         retention_1  retention_7\n",
              "version                          \n",
              "gate_30     0.448198     0.190183\n",
              "gate_40     0.442283     0.182000"
            ]
          },
          "metadata": {
            "tags": []
          },
          "execution_count": 148
        }
      ]
    },
    {
      "cell_type": "markdown",
      "metadata": {
        "id": "G0KTEHil2uR1"
      },
      "source": [
        "Удержание 1ого и 7ого дня для каждой группы"
      ]
    },
    {
      "cell_type": "code",
      "metadata": {
        "colab": {
          "base_uri": "https://localhost:8080/",
          "height": 204
        },
        "id": "iWhYAsga8APq",
        "outputId": "2a3da2bf-0ba3-4a7f-f479-e6fe23f8bf95"
      },
      "source": [
        "df.head()"
      ],
      "execution_count": 149,
      "outputs": [
        {
          "output_type": "execute_result",
          "data": {
            "text/html": [
              "<div>\n",
              "<style scoped>\n",
              "    .dataframe tbody tr th:only-of-type {\n",
              "        vertical-align: middle;\n",
              "    }\n",
              "\n",
              "    .dataframe tbody tr th {\n",
              "        vertical-align: top;\n",
              "    }\n",
              "\n",
              "    .dataframe thead th {\n",
              "        text-align: right;\n",
              "    }\n",
              "</style>\n",
              "<table border=\"1\" class=\"dataframe\">\n",
              "  <thead>\n",
              "    <tr style=\"text-align: right;\">\n",
              "      <th></th>\n",
              "      <th>userid</th>\n",
              "      <th>version</th>\n",
              "      <th>sum_gamerounds</th>\n",
              "      <th>retention_1</th>\n",
              "      <th>retention_7</th>\n",
              "    </tr>\n",
              "  </thead>\n",
              "  <tbody>\n",
              "    <tr>\n",
              "      <th>0</th>\n",
              "      <td>116</td>\n",
              "      <td>gate_30</td>\n",
              "      <td>3</td>\n",
              "      <td>False</td>\n",
              "      <td>False</td>\n",
              "    </tr>\n",
              "    <tr>\n",
              "      <th>1</th>\n",
              "      <td>337</td>\n",
              "      <td>gate_30</td>\n",
              "      <td>38</td>\n",
              "      <td>True</td>\n",
              "      <td>False</td>\n",
              "    </tr>\n",
              "    <tr>\n",
              "      <th>2</th>\n",
              "      <td>377</td>\n",
              "      <td>gate_40</td>\n",
              "      <td>165</td>\n",
              "      <td>True</td>\n",
              "      <td>False</td>\n",
              "    </tr>\n",
              "    <tr>\n",
              "      <th>3</th>\n",
              "      <td>483</td>\n",
              "      <td>gate_40</td>\n",
              "      <td>1</td>\n",
              "      <td>False</td>\n",
              "      <td>False</td>\n",
              "    </tr>\n",
              "    <tr>\n",
              "      <th>4</th>\n",
              "      <td>488</td>\n",
              "      <td>gate_40</td>\n",
              "      <td>179</td>\n",
              "      <td>True</td>\n",
              "      <td>True</td>\n",
              "    </tr>\n",
              "  </tbody>\n",
              "</table>\n",
              "</div>"
            ],
            "text/plain": [
              "   userid  version  sum_gamerounds  retention_1  retention_7\n",
              "0     116  gate_30               3        False        False\n",
              "1     337  gate_30              38         True        False\n",
              "2     377  gate_40             165         True        False\n",
              "3     483  gate_40               1        False        False\n",
              "4     488  gate_40             179         True         True"
            ]
          },
          "metadata": {
            "tags": []
          },
          "execution_count": 149
        }
      ]
    },
    {
      "cell_type": "code",
      "metadata": {
        "colab": {
          "base_uri": "https://localhost:8080/",
          "height": 204
        },
        "id": "WR0yEiqI68pF",
        "outputId": "9ad14498-f9d9-4534-c6e8-7443dc4339e2"
      },
      "source": [
        "df.groupby([\"version\", \"retention_1\"]).sum_gamerounds.agg([\"count\", \"median\", \"mean\", \"std\", \"max\"])"
      ],
      "execution_count": 150,
      "outputs": [
        {
          "output_type": "execute_result",
          "data": {
            "text/html": [
              "<div>\n",
              "<style scoped>\n",
              "    .dataframe tbody tr th:only-of-type {\n",
              "        vertical-align: middle;\n",
              "    }\n",
              "\n",
              "    .dataframe tbody tr th {\n",
              "        vertical-align: top;\n",
              "    }\n",
              "\n",
              "    .dataframe thead th {\n",
              "        text-align: right;\n",
              "    }\n",
              "</style>\n",
              "<table border=\"1\" class=\"dataframe\">\n",
              "  <thead>\n",
              "    <tr style=\"text-align: right;\">\n",
              "      <th></th>\n",
              "      <th></th>\n",
              "      <th>count</th>\n",
              "      <th>median</th>\n",
              "      <th>mean</th>\n",
              "      <th>std</th>\n",
              "      <th>max</th>\n",
              "    </tr>\n",
              "    <tr>\n",
              "      <th>version</th>\n",
              "      <th>retention_1</th>\n",
              "      <th></th>\n",
              "      <th></th>\n",
              "      <th></th>\n",
              "      <th></th>\n",
              "      <th></th>\n",
              "    </tr>\n",
              "  </thead>\n",
              "  <tbody>\n",
              "    <tr>\n",
              "      <th rowspan=\"2\" valign=\"top\">gate_30</th>\n",
              "      <th>False</th>\n",
              "      <td>24665</td>\n",
              "      <td>6</td>\n",
              "      <td>16.359092</td>\n",
              "      <td>36.528426</td>\n",
              "      <td>1072</td>\n",
              "    </tr>\n",
              "    <tr>\n",
              "      <th>True</th>\n",
              "      <td>20034</td>\n",
              "      <td>48</td>\n",
              "      <td>94.411700</td>\n",
              "      <td>135.037697</td>\n",
              "      <td>2961</td>\n",
              "    </tr>\n",
              "    <tr>\n",
              "      <th rowspan=\"2\" valign=\"top\">gate_40</th>\n",
              "      <th>False</th>\n",
              "      <td>25370</td>\n",
              "      <td>6</td>\n",
              "      <td>16.340402</td>\n",
              "      <td>35.925756</td>\n",
              "      <td>1241</td>\n",
              "    </tr>\n",
              "    <tr>\n",
              "      <th>True</th>\n",
              "      <td>20119</td>\n",
              "      <td>49</td>\n",
              "      <td>95.381182</td>\n",
              "      <td>137.887256</td>\n",
              "      <td>2640</td>\n",
              "    </tr>\n",
              "  </tbody>\n",
              "</table>\n",
              "</div>"
            ],
            "text/plain": [
              "                     count  median       mean         std   max\n",
              "version retention_1                                            \n",
              "gate_30 False        24665       6  16.359092   36.528426  1072\n",
              "        True         20034      48  94.411700  135.037697  2961\n",
              "gate_40 False        25370       6  16.340402   35.925756  1241\n",
              "        True         20119      49  95.381182  137.887256  2640"
            ]
          },
          "metadata": {
            "tags": []
          },
          "execution_count": 150
        }
      ]
    },
    {
      "cell_type": "code",
      "metadata": {
        "colab": {
          "base_uri": "https://localhost:8080/",
          "height": 204
        },
        "id": "2QUDOn3u7Efo",
        "outputId": "67da4c65-561d-45d0-a3ff-68bdc800c7fc"
      },
      "source": [
        "df.groupby([\"version\", \"retention_7\"]).sum_gamerounds.agg([\"count\", \"median\", \"mean\", \"std\", \"max\"])"
      ],
      "execution_count": 155,
      "outputs": [
        {
          "output_type": "execute_result",
          "data": {
            "text/html": [
              "<div>\n",
              "<style scoped>\n",
              "    .dataframe tbody tr th:only-of-type {\n",
              "        vertical-align: middle;\n",
              "    }\n",
              "\n",
              "    .dataframe tbody tr th {\n",
              "        vertical-align: top;\n",
              "    }\n",
              "\n",
              "    .dataframe thead th {\n",
              "        text-align: right;\n",
              "    }\n",
              "</style>\n",
              "<table border=\"1\" class=\"dataframe\">\n",
              "  <thead>\n",
              "    <tr style=\"text-align: right;\">\n",
              "      <th></th>\n",
              "      <th></th>\n",
              "      <th>count</th>\n",
              "      <th>median</th>\n",
              "      <th>mean</th>\n",
              "      <th>std</th>\n",
              "      <th>max</th>\n",
              "    </tr>\n",
              "    <tr>\n",
              "      <th>version</th>\n",
              "      <th>retention_7</th>\n",
              "      <th></th>\n",
              "      <th></th>\n",
              "      <th></th>\n",
              "      <th></th>\n",
              "      <th></th>\n",
              "    </tr>\n",
              "  </thead>\n",
              "  <tbody>\n",
              "    <tr>\n",
              "      <th rowspan=\"2\" valign=\"top\">A</th>\n",
              "      <th>False</th>\n",
              "      <td>36198</td>\n",
              "      <td>11</td>\n",
              "      <td>25.796508</td>\n",
              "      <td>43.316158</td>\n",
              "      <td>981</td>\n",
              "    </tr>\n",
              "    <tr>\n",
              "      <th>True</th>\n",
              "      <td>8501</td>\n",
              "      <td>105</td>\n",
              "      <td>160.117516</td>\n",
              "      <td>179.358560</td>\n",
              "      <td>2961</td>\n",
              "    </tr>\n",
              "    <tr>\n",
              "      <th rowspan=\"2\" valign=\"top\">B</th>\n",
              "      <th>False</th>\n",
              "      <td>37210</td>\n",
              "      <td>11</td>\n",
              "      <td>25.856356</td>\n",
              "      <td>44.406112</td>\n",
              "      <td>2640</td>\n",
              "    </tr>\n",
              "    <tr>\n",
              "      <th>True</th>\n",
              "      <td>8279</td>\n",
              "      <td>111</td>\n",
              "      <td>165.649837</td>\n",
              "      <td>183.792499</td>\n",
              "      <td>2294</td>\n",
              "    </tr>\n",
              "  </tbody>\n",
              "</table>\n",
              "</div>"
            ],
            "text/plain": [
              "                     count  median        mean         std   max\n",
              "version retention_7                                             \n",
              "A       False        36198      11   25.796508   43.316158   981\n",
              "        True          8501     105  160.117516  179.358560  2961\n",
              "B       False        37210      11   25.856356   44.406112  2640\n",
              "        True          8279     111  165.649837  183.792499  2294"
            ]
          },
          "metadata": {
            "tags": []
          },
          "execution_count": 155
        }
      ]
    },
    {
      "cell_type": "code",
      "metadata": {
        "colab": {
          "base_uri": "https://localhost:8080/",
          "height": 297
        },
        "id": "HTrKbgFw7khg",
        "outputId": "7d5b3a4c-dfab-49d2-b854-143690da20d9"
      },
      "source": [
        "df[\"NewRetention\"] = list(map(lambda x,y: str(x)+\"-\"+str(y), df.retention_1, df.retention_7))\n",
        "df.groupby([\"version\", \"NewRetention\"]).sum_gamerounds.agg([\"count\", \"median\", \"mean\", \"std\", \"max\"]).reset_index()"
      ],
      "execution_count": 152,
      "outputs": [
        {
          "output_type": "execute_result",
          "data": {
            "text/html": [
              "<div>\n",
              "<style scoped>\n",
              "    .dataframe tbody tr th:only-of-type {\n",
              "        vertical-align: middle;\n",
              "    }\n",
              "\n",
              "    .dataframe tbody tr th {\n",
              "        vertical-align: top;\n",
              "    }\n",
              "\n",
              "    .dataframe thead th {\n",
              "        text-align: right;\n",
              "    }\n",
              "</style>\n",
              "<table border=\"1\" class=\"dataframe\">\n",
              "  <thead>\n",
              "    <tr style=\"text-align: right;\">\n",
              "      <th></th>\n",
              "      <th>version</th>\n",
              "      <th>NewRetention</th>\n",
              "      <th>count</th>\n",
              "      <th>median</th>\n",
              "      <th>mean</th>\n",
              "      <th>std</th>\n",
              "      <th>max</th>\n",
              "    </tr>\n",
              "  </thead>\n",
              "  <tbody>\n",
              "    <tr>\n",
              "      <th>0</th>\n",
              "      <td>gate_30</td>\n",
              "      <td>False-False</td>\n",
              "      <td>22840</td>\n",
              "      <td>6</td>\n",
              "      <td>11.819746</td>\n",
              "      <td>21.642643</td>\n",
              "      <td>981</td>\n",
              "    </tr>\n",
              "    <tr>\n",
              "      <th>1</th>\n",
              "      <td>gate_30</td>\n",
              "      <td>False-True</td>\n",
              "      <td>1825</td>\n",
              "      <td>43</td>\n",
              "      <td>73.169315</td>\n",
              "      <td>93.222330</td>\n",
              "      <td>1072</td>\n",
              "    </tr>\n",
              "    <tr>\n",
              "      <th>2</th>\n",
              "      <td>gate_30</td>\n",
              "      <td>True-False</td>\n",
              "      <td>13358</td>\n",
              "      <td>33</td>\n",
              "      <td>49.694490</td>\n",
              "      <td>58.125396</td>\n",
              "      <td>918</td>\n",
              "    </tr>\n",
              "    <tr>\n",
              "      <th>3</th>\n",
              "      <td>gate_30</td>\n",
              "      <td>True-True</td>\n",
              "      <td>6676</td>\n",
              "      <td>127</td>\n",
              "      <td>183.886309</td>\n",
              "      <td>189.626390</td>\n",
              "      <td>2961</td>\n",
              "    </tr>\n",
              "    <tr>\n",
              "      <th>4</th>\n",
              "      <td>gate_40</td>\n",
              "      <td>False-False</td>\n",
              "      <td>23597</td>\n",
              "      <td>6</td>\n",
              "      <td>11.913294</td>\n",
              "      <td>20.901020</td>\n",
              "      <td>547</td>\n",
              "    </tr>\n",
              "    <tr>\n",
              "      <th>5</th>\n",
              "      <td>gate_40</td>\n",
              "      <td>False-True</td>\n",
              "      <td>1773</td>\n",
              "      <td>47</td>\n",
              "      <td>75.261139</td>\n",
              "      <td>94.478048</td>\n",
              "      <td>1241</td>\n",
              "    </tr>\n",
              "    <tr>\n",
              "      <th>6</th>\n",
              "      <td>gate_40</td>\n",
              "      <td>True-False</td>\n",
              "      <td>13613</td>\n",
              "      <td>32</td>\n",
              "      <td>50.025490</td>\n",
              "      <td>60.924587</td>\n",
              "      <td>2640</td>\n",
              "    </tr>\n",
              "    <tr>\n",
              "      <th>7</th>\n",
              "      <td>gate_40</td>\n",
              "      <td>True-True</td>\n",
              "      <td>6506</td>\n",
              "      <td>133</td>\n",
              "      <td>190.282355</td>\n",
              "      <td>194.220077</td>\n",
              "      <td>2294</td>\n",
              "    </tr>\n",
              "  </tbody>\n",
              "</table>\n",
              "</div>"
            ],
            "text/plain": [
              "   version NewRetention  count  median        mean         std   max\n",
              "0  gate_30  False-False  22840       6   11.819746   21.642643   981\n",
              "1  gate_30   False-True   1825      43   73.169315   93.222330  1072\n",
              "2  gate_30   True-False  13358      33   49.694490   58.125396   918\n",
              "3  gate_30    True-True   6676     127  183.886309  189.626390  2961\n",
              "4  gate_40  False-False  23597       6   11.913294   20.901020   547\n",
              "5  gate_40   False-True   1773      47   75.261139   94.478048  1241\n",
              "6  gate_40   True-False  13613      32   50.025490   60.924587  2640\n",
              "7  gate_40    True-True   6506     133  190.282355  194.220077  2294"
            ]
          },
          "metadata": {
            "tags": []
          },
          "execution_count": 152
        }
      ]
    },
    {
      "cell_type": "markdown",
      "metadata": {
        "id": "cOtfvtO62wJt"
      },
      "source": [
        "# AB тест:\n",
        "\n",
        "\n",
        "*   Сплитуем данные на контрольную и тестовую группу\n",
        "*   Применяем критерий Шапиро-Уилка на нормальность\n",
        "*   Если критерий параметрический - применяем Тест Левена на гомогенность дисперсий\n",
        "*   При равенстве дисперсий применяем Т-тест\n",
        "*   При неравенстве дисперсий применяем Тест Уэлша\n",
        "*   Если критерий непараметрический - применяем Манна-Уитни\n",
        "\n"
      ]
    },
    {
      "cell_type": "code",
      "metadata": {
        "colab": {
          "base_uri": "https://localhost:8080/",
          "height": 204
        },
        "id": "Td682MNH6J8h",
        "outputId": "62cbc694-f1e7-4b0a-cfdc-63127517fd15"
      },
      "source": [
        "df[\"version\"] = np.where(df.version == \"gate_30\", \"A\", \"B\")\n",
        "df.head()"
      ],
      "execution_count": 153,
      "outputs": [
        {
          "output_type": "execute_result",
          "data": {
            "text/html": [
              "<div>\n",
              "<style scoped>\n",
              "    .dataframe tbody tr th:only-of-type {\n",
              "        vertical-align: middle;\n",
              "    }\n",
              "\n",
              "    .dataframe tbody tr th {\n",
              "        vertical-align: top;\n",
              "    }\n",
              "\n",
              "    .dataframe thead th {\n",
              "        text-align: right;\n",
              "    }\n",
              "</style>\n",
              "<table border=\"1\" class=\"dataframe\">\n",
              "  <thead>\n",
              "    <tr style=\"text-align: right;\">\n",
              "      <th></th>\n",
              "      <th>userid</th>\n",
              "      <th>version</th>\n",
              "      <th>sum_gamerounds</th>\n",
              "      <th>retention_1</th>\n",
              "      <th>retention_7</th>\n",
              "      <th>NewRetention</th>\n",
              "    </tr>\n",
              "  </thead>\n",
              "  <tbody>\n",
              "    <tr>\n",
              "      <th>0</th>\n",
              "      <td>116</td>\n",
              "      <td>A</td>\n",
              "      <td>3</td>\n",
              "      <td>False</td>\n",
              "      <td>False</td>\n",
              "      <td>False-False</td>\n",
              "    </tr>\n",
              "    <tr>\n",
              "      <th>1</th>\n",
              "      <td>337</td>\n",
              "      <td>A</td>\n",
              "      <td>38</td>\n",
              "      <td>True</td>\n",
              "      <td>False</td>\n",
              "      <td>True-False</td>\n",
              "    </tr>\n",
              "    <tr>\n",
              "      <th>2</th>\n",
              "      <td>377</td>\n",
              "      <td>B</td>\n",
              "      <td>165</td>\n",
              "      <td>True</td>\n",
              "      <td>False</td>\n",
              "      <td>True-False</td>\n",
              "    </tr>\n",
              "    <tr>\n",
              "      <th>3</th>\n",
              "      <td>483</td>\n",
              "      <td>B</td>\n",
              "      <td>1</td>\n",
              "      <td>False</td>\n",
              "      <td>False</td>\n",
              "      <td>False-False</td>\n",
              "    </tr>\n",
              "    <tr>\n",
              "      <th>4</th>\n",
              "      <td>488</td>\n",
              "      <td>B</td>\n",
              "      <td>179</td>\n",
              "      <td>True</td>\n",
              "      <td>True</td>\n",
              "      <td>True-True</td>\n",
              "    </tr>\n",
              "  </tbody>\n",
              "</table>\n",
              "</div>"
            ],
            "text/plain": [
              "   userid version  sum_gamerounds  retention_1  retention_7 NewRetention\n",
              "0     116       A               3        False        False  False-False\n",
              "1     337       A              38         True        False   True-False\n",
              "2     377       B             165         True        False   True-False\n",
              "3     483       B               1        False        False  False-False\n",
              "4     488       B             179         True         True    True-True"
            ]
          },
          "metadata": {
            "tags": []
          },
          "execution_count": 153
        }
      ]
    },
    {
      "cell_type": "code",
      "metadata": {
        "colab": {
          "base_uri": "https://localhost:8080/",
          "height": 148
        },
        "id": "Tub3Nxfi2sS1",
        "outputId": "be9478fd-8ec3-460c-aa56-1f406ebfffbf"
      },
      "source": [
        "def AB_Test(dataframe, group, target):\n",
        "    \n",
        "    from scipy.stats import shapiro\n",
        "    import scipy.stats as stats\n",
        "    \n",
        "    # Сплитуем данные\n",
        "    groupA = dataframe[dataframe[group] == \"A\"][target]\n",
        "    groupB = dataframe[dataframe[group] == \"B\"][target]\n",
        "    \n",
        "    # Проверка на нормальность\n",
        "    ntA = shapiro(groupA)[1] < 0.05\n",
        "    ntB = shapiro(groupB)[1] < 0.05\n",
        "    \n",
        "    if (ntA == False) & (ntB == False): \n",
        "        # Проверка на гомогенность дисперсий\n",
        "        leveneTest = stats.levene(groupA, groupB)[1] < 0.05\n",
        "        \n",
        "        if leveneTest == False:\n",
        "            # Т-тест\n",
        "            ttest = stats.ttest_ind(groupA, groupB, equal_var=True)[1]\n",
        "        else:\n",
        "            # Тест Уэлша\n",
        "            ttest = stats.ttest_ind(groupA, groupB, equal_var=False)[1]\n",
        "    else:\n",
        "        # Манна-Уитни\n",
        "        ttest = stats.mannwhitneyu(groupA, groupB)[1] \n",
        "\n",
        "    temp = pd.DataFrame({\n",
        "        \"AB Hypothesis\":[ttest < 0.05], \n",
        "        \"p-value\":[ttest]\n",
        "    })\n",
        "    temp[\"Test Type\"] = np.where((ntA == False) & (ntB == False), \"Параметрический\", \"Непараметрический\")\n",
        "    temp[\"AB Hypothesis\"] = np.where(temp[\"AB Hypothesis\"] == False, \"Нельзя отклонить нулевую гипотезу\", \"Отклоняем нулевую гипотезу\")\n",
        "    temp[\"Comment\"] = np.where(temp[\"AB Hypothesis\"] == \"Нельзя отклонить нулевую гипотезу\", \"A/B не отличаются!\", \"A/B отличаются!\")\n",
        "    \n",
        "    if (ntA == False) & (ntB == False):\n",
        "        temp[\"Homogeneity\"] = np.where(leveneTest == False, \"Да\", \"Нет\")\n",
        "        temp = temp[[\"Test Type\", \"Homogeneity\",\"AB Hypothesis\", \"p-value\", \"Comment\"]]\n",
        "    else:\n",
        "        temp = temp[[\"Test Type\",\"AB Hypothesis\", \"p-value\", \"Comment\"]]\n",
        "    \n",
        "    print(\"# A/B Testing Hypothesis\")\n",
        "    print(\"H0: A == B\")\n",
        "    print(\"H1: A != B\", \"\\n\")\n",
        "    \n",
        "    return temp\n",
        "    \n",
        "\n",
        "AB_Test(dataframe=df, group = \"version\", target = \"sum_gamerounds\")"
      ],
      "execution_count": 161,
      "outputs": [
        {
          "output_type": "stream",
          "text": [
            "# A/B Testing Hypothesis\n",
            "H0: A == B\n",
            "H1: A != B \n",
            "\n"
          ],
          "name": "stdout"
        },
        {
          "output_type": "execute_result",
          "data": {
            "text/html": [
              "<div>\n",
              "<style scoped>\n",
              "    .dataframe tbody tr th:only-of-type {\n",
              "        vertical-align: middle;\n",
              "    }\n",
              "\n",
              "    .dataframe tbody tr th {\n",
              "        vertical-align: top;\n",
              "    }\n",
              "\n",
              "    .dataframe thead th {\n",
              "        text-align: right;\n",
              "    }\n",
              "</style>\n",
              "<table border=\"1\" class=\"dataframe\">\n",
              "  <thead>\n",
              "    <tr style=\"text-align: right;\">\n",
              "      <th></th>\n",
              "      <th>Test Type</th>\n",
              "      <th>AB Hypothesis</th>\n",
              "      <th>p-value</th>\n",
              "      <th>Comment</th>\n",
              "    </tr>\n",
              "  </thead>\n",
              "  <tbody>\n",
              "    <tr>\n",
              "      <th>0</th>\n",
              "      <td>Непараметрический</td>\n",
              "      <td>Отклоняем нулевую гипотезу</td>\n",
              "      <td>0.025446</td>\n",
              "      <td>A/B отличаются!</td>\n",
              "    </tr>\n",
              "  </tbody>\n",
              "</table>\n",
              "</div>"
            ],
            "text/plain": [
              "           Test Type               AB Hypothesis   p-value          Comment\n",
              "0  Непараметрический  Отклоняем нулевую гипотезу  0.025446  A/B отличаются!"
            ]
          },
          "metadata": {
            "tags": []
          },
          "execution_count": 161
        }
      ]
    },
    {
      "cell_type": "code",
      "metadata": {
        "id": "zuED0rdwBEvl"
      },
      "source": [
        ""
      ],
      "execution_count": null,
      "outputs": []
    }
  ]
}